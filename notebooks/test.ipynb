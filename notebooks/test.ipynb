{
 "cells": [
  {
   "metadata": {
    "ExecuteTime": {
     "end_time": "2024-12-16T12:54:31.704248Z",
     "start_time": "2024-12-16T12:54:31.701945Z"
    }
   },
   "cell_type": "code",
   "source": [
    "import src.data.data_loader as dl\n",
    "import pandas as pd\n",
    "import matplotlib.pyplot as plt"
   ],
   "id": "3b636966609308de",
   "outputs": [],
   "execution_count": 1
  },
  {
   "metadata": {
    "ExecuteTime": {
     "end_time": "2024-12-16T12:54:36.217819Z",
     "start_time": "2024-12-16T12:54:33.147364Z"
    }
   },
   "cell_type": "code",
   "source": [
    "exchange_a = dl.load_exchange_a('../data/processed/exchange-a_BTC-EUR_2021-2023.csv')\n",
    "exchange_b = dl.load_exchange_b('../data/processed/exchange-b_BTC-EUR_2021-2023.csv')"
   ],
   "id": "ad830f64c417d31f",
   "outputs": [],
   "execution_count": 2
  },
  {
   "metadata": {
    "ExecuteTime": {
     "end_time": "2024-12-16T12:54:38.023928Z",
     "start_time": "2024-12-16T12:54:38.018903Z"
    }
   },
   "cell_type": "code",
   "source": [
    "exchange_a.head()# plot a graph of both price over time\n",
    "\n",
    "\n"
   ],
   "id": "a965d9c5d2827323",
   "outputs": [
    {
     "data": {
      "text/plain": [
       "                 timestamp                 date   symbol      open      high  \\\n",
       "640063 2021-01-01 00:01:00  2021-01-01 00:01:00  BTC/EUR  23727.23  23768.72   \n",
       "640062 2021-01-01 00:02:00  2021-01-01 00:02:00  BTC/EUR  23747.06  23749.08   \n",
       "640061 2021-01-01 00:03:00  2021-01-01 00:03:00  BTC/EUR  23742.72  23760.58   \n",
       "640060 2021-01-01 00:04:00  2021-01-01 00:04:00  BTC/EUR  23724.80  23751.45   \n",
       "640059 2021-01-01 00:05:00  2021-01-01 00:05:00  BTC/EUR  23742.96  23742.96   \n",
       "\n",
       "             low     close  Volume BTC    Volume EUR  \n",
       "640063  23727.23  23768.72    4.072530  96798.833818  \n",
       "640062  23734.55  23748.91    0.093636   2223.755312  \n",
       "640061  23730.30  23730.30    0.174003   4129.146239  \n",
       "640060  23724.75  23751.45    0.013498    320.606573  \n",
       "640059  23691.84  23713.93    0.047280   1121.185599  "
      ],
      "text/html": [
       "<div>\n",
       "<style scoped>\n",
       "    .dataframe tbody tr th:only-of-type {\n",
       "        vertical-align: middle;\n",
       "    }\n",
       "\n",
       "    .dataframe tbody tr th {\n",
       "        vertical-align: top;\n",
       "    }\n",
       "\n",
       "    .dataframe thead th {\n",
       "        text-align: right;\n",
       "    }\n",
       "</style>\n",
       "<table border=\"1\" class=\"dataframe\">\n",
       "  <thead>\n",
       "    <tr style=\"text-align: right;\">\n",
       "      <th></th>\n",
       "      <th>timestamp</th>\n",
       "      <th>date</th>\n",
       "      <th>symbol</th>\n",
       "      <th>open</th>\n",
       "      <th>high</th>\n",
       "      <th>low</th>\n",
       "      <th>close</th>\n",
       "      <th>Volume BTC</th>\n",
       "      <th>Volume EUR</th>\n",
       "    </tr>\n",
       "  </thead>\n",
       "  <tbody>\n",
       "    <tr>\n",
       "      <th>640063</th>\n",
       "      <td>2021-01-01 00:01:00</td>\n",
       "      <td>2021-01-01 00:01:00</td>\n",
       "      <td>BTC/EUR</td>\n",
       "      <td>23727.23</td>\n",
       "      <td>23768.72</td>\n",
       "      <td>23727.23</td>\n",
       "      <td>23768.72</td>\n",
       "      <td>4.072530</td>\n",
       "      <td>96798.833818</td>\n",
       "    </tr>\n",
       "    <tr>\n",
       "      <th>640062</th>\n",
       "      <td>2021-01-01 00:02:00</td>\n",
       "      <td>2021-01-01 00:02:00</td>\n",
       "      <td>BTC/EUR</td>\n",
       "      <td>23747.06</td>\n",
       "      <td>23749.08</td>\n",
       "      <td>23734.55</td>\n",
       "      <td>23748.91</td>\n",
       "      <td>0.093636</td>\n",
       "      <td>2223.755312</td>\n",
       "    </tr>\n",
       "    <tr>\n",
       "      <th>640061</th>\n",
       "      <td>2021-01-01 00:03:00</td>\n",
       "      <td>2021-01-01 00:03:00</td>\n",
       "      <td>BTC/EUR</td>\n",
       "      <td>23742.72</td>\n",
       "      <td>23760.58</td>\n",
       "      <td>23730.30</td>\n",
       "      <td>23730.30</td>\n",
       "      <td>0.174003</td>\n",
       "      <td>4129.146239</td>\n",
       "    </tr>\n",
       "    <tr>\n",
       "      <th>640060</th>\n",
       "      <td>2021-01-01 00:04:00</td>\n",
       "      <td>2021-01-01 00:04:00</td>\n",
       "      <td>BTC/EUR</td>\n",
       "      <td>23724.80</td>\n",
       "      <td>23751.45</td>\n",
       "      <td>23724.75</td>\n",
       "      <td>23751.45</td>\n",
       "      <td>0.013498</td>\n",
       "      <td>320.606573</td>\n",
       "    </tr>\n",
       "    <tr>\n",
       "      <th>640059</th>\n",
       "      <td>2021-01-01 00:05:00</td>\n",
       "      <td>2021-01-01 00:05:00</td>\n",
       "      <td>BTC/EUR</td>\n",
       "      <td>23742.96</td>\n",
       "      <td>23742.96</td>\n",
       "      <td>23691.84</td>\n",
       "      <td>23713.93</td>\n",
       "      <td>0.047280</td>\n",
       "      <td>1121.185599</td>\n",
       "    </tr>\n",
       "  </tbody>\n",
       "</table>\n",
       "</div>"
      ]
     },
     "execution_count": 3,
     "metadata": {},
     "output_type": "execute_result"
    }
   ],
   "execution_count": 3
  },
  {
   "metadata": {
    "jupyter": {
     "is_executing": true
    },
    "ExecuteTime": {
     "start_time": "2024-12-16T12:54:40.207740Z"
    }
   },
   "cell_type": "code",
   "source": [
    "import src.algorithms.spatial.spatial as spatial\n",
    "opportunities = spatial.find_opportunities(exchange_a, exchange_b, threshold=0.01)"
   ],
   "id": "82f9cbb2a87272f0",
   "outputs": [
    {
     "name": "stdout",
     "output_type": "stream",
     "text": [
      "Processed 1000 rows\n",
      "Processed 2000 rows\n",
      "Processed 3000 rows\n",
      "Processed 4000 rows\n",
      "Processed 5000 rows\n",
      "Processed 6000 rows\n",
      "Processed 7000 rows\n",
      "Processed 8000 rows\n",
      "Processed 9000 rows\n",
      "Processed 10000 rows\n",
      "Processed 11000 rows\n"
     ]
    }
   ],
   "execution_count": null
  }
 ],
 "metadata": {
  "kernelspec": {
   "display_name": "Python 3",
   "language": "python",
   "name": "python3"
  },
  "language_info": {
   "codemirror_mode": {
    "name": "ipython",
    "version": 2
   },
   "file_extension": ".py",
   "mimetype": "text/x-python",
   "name": "python",
   "nbconvert_exporter": "python",
   "pygments_lexer": "ipython2",
   "version": "2.7.6"
  }
 },
 "nbformat": 4,
 "nbformat_minor": 5
}
