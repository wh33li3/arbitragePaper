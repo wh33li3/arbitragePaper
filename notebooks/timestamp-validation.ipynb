{
 "cells": [
  {
   "cell_type": "markdown",
   "metadata": {},
   "source": [
    "# Timestamp Validation for Exchange Data\n",
    "\n",
    "This notebook checks the consistency and validity of timestamps in both exchange datasets."
   ],
   "id": "8460addeaf617b4b"
  },
  {
   "cell_type": "code",
   "metadata": {
    "ExecuteTime": {
     "end_time": "2024-12-16T11:20:40.677504Z",
     "start_time": "2024-12-16T11:20:40.675679Z"
    }
   },
   "source": [
    "import pandas as pd\n",
    "import matplotlib.pyplot as plt\n",
    "from datetime import datetime\n",
    "import seaborn as sns\n",
    "\n",
    "# Set style for better visualization\n"
   ],
   "id": "dbe1e71e1f18a4ad",
   "outputs": [],
   "execution_count": 8
  },
  {
   "cell_type": "code",
   "metadata": {
    "ExecuteTime": {
     "end_time": "2024-12-16T11:20:43.606981Z",
     "start_time": "2024-12-16T11:20:42.656920Z"
    }
   },
   "source": [
    "# Load the data\n",
    "df_a = pd.read_csv('../data/processed/exchange-a_BTC-EUR_2021-2023.csv')\n",
    "df_b = pd.read_csv('../data/processed/exchange-b_BTC-EUR_2021-2023.csv')\n",
    "\n",
    "print(f\"Exchange A rows: {len(df_a)}\")\n",
    "print(f\"Exchange B rows: {len(df_b)}\")"
   ],
   "id": "933457f2cff80f15",
   "outputs": [
    {
     "name": "stdout",
     "output_type": "stream",
     "text": [
      "Exchange A rows: 1669602\n",
      "Exchange B rows: 350523\n"
     ]
    }
   ],
   "execution_count": 9
  },
  {
   "cell_type": "markdown",
   "metadata": {},
   "source": [
    "## 1. Check Timestamp Formats"
   ],
   "id": "2a1611f6bd80a573"
  },
  {
   "cell_type": "code",
   "metadata": {
    "ExecuteTime": {
     "end_time": "2024-12-16T11:21:24.148858Z",
     "start_time": "2024-12-16T11:21:24.146661Z"
    }
   },
   "source": [
    "# Display sample timestamps from both exchanges\n",
    "print(\"Exchange A timestamp samples:\")\n",
    "print(df_a['timestamp'].head())\n",
    "print(\"\\nExchange B timestamp samples:\")\n",
    "print(df_b['timestamp'].head())"
   ],
   "id": "8318eff56ef2d85d",
   "outputs": [
    {
     "name": "stdout",
     "output_type": "stream",
     "text": [
      "Exchange A timestamp samples:\n",
      "0    1.647863e+09\n",
      "1    1.647863e+09\n",
      "2    1.647863e+09\n",
      "3    1.647863e+09\n",
      "4    1.647863e+09\n",
      "Name: timestamp, dtype: float64\n",
      "\n",
      "Exchange B timestamp samples:\n",
      "0     2022-02-04T16:49:09.15Z\n",
      "1    2021-01-14T23:07:30.137Z\n",
      "2    2021-01-14T23:07:30.113Z\n",
      "3    2021-11-19T15:13:55.607Z\n",
      "4    2022-04-14T16:20:06.533Z\n",
      "Name: timestamp, dtype: object\n"
     ]
    }
   ],
   "execution_count": 11
  },
  {
   "cell_type": "code",
   "metadata": {
    "ExecuteTime": {
     "end_time": "2024-12-16T11:21:29.654589Z",
     "start_time": "2024-12-16T11:21:29.641988Z"
    }
   },
   "source": [
    "def check_timestamp_format(df, exchange_name):\n",
    "    \"\"\"Check various aspects of timestamp format\"\"\"\n",
    "    print(f\"\\nAnalyzing {exchange_name} timestamps:\")\n",
    "    \n",
    "    # Check data type\n",
    "    print(f\"Timestamp dtype: {df['timestamp'].dtype}\")\n",
    "    \n",
    "    # Check for null values\n",
    "    null_count = df['timestamp'].isnull().sum()\n",
    "    print(f\"Null timestamps: {null_count}\")\n",
    "    \n",
    "    # Check unique formats (sample of first 1000 rows)\n",
    "    if isinstance(df['timestamp'].iloc[0], str):\n",
    "        unique_formats = df['timestamp'].head(1000).apply(len).unique()\n",
    "        print(f\"Unique timestamp lengths: {unique_formats}\")\n",
    "\n",
    "check_timestamp_format(df_a, 'Exchange A')\n",
    "check_timestamp_format(df_b, 'Exchange B')"
   ],
   "id": "65bcfe1da1b58fdc",
   "outputs": [
    {
     "name": "stdout",
     "output_type": "stream",
     "text": [
      "\n",
      "Analyzing Exchange A timestamps:\n",
      "Timestamp dtype: float64\n",
      "Null timestamps: 0\n",
      "\n",
      "Analyzing Exchange B timestamps:\n",
      "Timestamp dtype: object\n",
      "Null timestamps: 0\n",
      "Unique timestamp lengths: [23 24 22 20]\n"
     ]
    }
   ],
   "execution_count": 12
  },
  {
   "cell_type": "markdown",
   "metadata": {},
   "source": [
    "## 2. Test Timestamp Conversions"
   ],
   "id": "f323be33a1c811a0"
  },
  {
   "cell_type": "code",
   "metadata": {
    "ExecuteTime": {
     "end_time": "2024-12-16T11:21:41.380768Z",
     "start_time": "2024-12-16T11:21:41.372467Z"
    }
   },
   "source": [
    "def test_timestamp_conversion(df, exchange_name):\n",
    "    \"\"\"Test different timestamp conversion methods\"\"\"\n",
    "    sample = df.head(1000)\n",
    "    \n",
    "    print(f\"\\nTesting {exchange_name} timestamp conversions:\")\n",
    "    \n",
    "    # Try UNIX timestamp conversion\n",
    "    try:\n",
    "        pd.to_datetime(sample['timestamp'], unit='s')\n",
    "        print(\"✓ UNIX timestamp conversion successful\")\n",
    "    except:\n",
    "        print(\"✗ UNIX timestamp conversion failed\")\n",
    "    \n",
    "    # Try ISO format conversion\n",
    "    try:\n",
    "        pd.to_datetime(sample['timestamp'])\n",
    "        print(\"✓ ISO format conversion successful\")\n",
    "    except:\n",
    "        print(\"✗ ISO format conversion failed\")\n",
    "\n",
    "test_timestamp_conversion(df_a, 'Exchange A')\n",
    "test_timestamp_conversion(df_b, 'Exchange B')"
   ],
   "id": "c1de49f3de3f58a9",
   "outputs": [
    {
     "name": "stdout",
     "output_type": "stream",
     "text": [
      "\n",
      "Testing Exchange A timestamp conversions:\n",
      "✓ UNIX timestamp conversion successful\n",
      "✓ ISO format conversion successful\n",
      "\n",
      "Testing Exchange B timestamp conversions:\n",
      "✗ UNIX timestamp conversion failed\n",
      "✗ ISO format conversion failed\n"
     ]
    }
   ],
   "execution_count": 13
  },
  {
   "cell_type": "markdown",
   "metadata": {},
   "source": [
    "## 3. Analyze Timestamp Distribution"
   ],
   "id": "4a173cb82ed1d513"
  },
  {
   "cell_type": "code",
   "metadata": {
    "ExecuteTime": {
     "end_time": "2024-12-16T11:21:51.710995Z",
     "start_time": "2024-12-16T11:21:51.379289Z"
    }
   },
   "source": [
    "def plot_timestamp_distribution(df_a, df_b):\n",
    "    \"\"\"Plot timestamp distributions for both exchanges\"\"\"\n",
    "    # Convert timestamps\n",
    "    try:\n",
    "        timestamps_a = pd.to_datetime(df_a['timestamp'], unit='s')\n",
    "    except:\n",
    "        timestamps_a = pd.to_datetime(df_a['timestamp'])\n",
    "        \n",
    "    try:\n",
    "        timestamps_b = pd.to_datetime(df_b['timestamp'])\n",
    "    except:\n",
    "        timestamps_b = pd.to_datetime(df_b['timestamp'], unit='s')\n",
    "    \n",
    "    # Create figure\n",
    "    fig, (ax1, ax2) = plt.subplots(2, 1, figsize=(15, 10))\n",
    "    \n",
    "    # Plot distributions\n",
    "    timestamps_a.hist(ax=ax1, bins=50)\n",
    "    ax1.set_title('Exchange A Timestamp Distribution')\n",
    "    \n",
    "    timestamps_b.hist(ax=ax2, bins=50)\n",
    "    ax2.set_title('Exchange B Timestamp Distribution')\n",
    "    \n",
    "    plt.tight_layout()\n",
    "    plt.show()\n",
    "\n",
    "plot_timestamp_distribution(df_a, df_b)"
   ],
   "id": "ef69d9ca4b5ae215",
   "outputs": [
    {
     "ename": "ValueError",
     "evalue": "non convertible value 2022-02-04T16:49:09.15Z with the unit 's', at position 0",
     "output_type": "error",
     "traceback": [
      "\u001B[0;31m---------------------------------------------------------------------------\u001B[0m",
      "\u001B[0;31mValueError\u001B[0m                                Traceback (most recent call last)",
      "Cell \u001B[0;32mIn[14], line 10\u001B[0m, in \u001B[0;36mplot_timestamp_distribution\u001B[0;34m(df_a, df_b)\u001B[0m\n\u001B[1;32m      9\u001B[0m \u001B[38;5;28;01mtry\u001B[39;00m:\n\u001B[0;32m---> 10\u001B[0m     timestamps_b \u001B[38;5;241m=\u001B[39m pd\u001B[38;5;241m.\u001B[39mto_datetime(df_b[\u001B[38;5;124m'\u001B[39m\u001B[38;5;124mtimestamp\u001B[39m\u001B[38;5;124m'\u001B[39m])\n\u001B[1;32m     11\u001B[0m \u001B[38;5;28;01mexcept\u001B[39;00m:\n",
      "File \u001B[0;32m/opt/homebrew/anaconda3/lib/python3.12/site-packages/pandas/core/tools/datetimes.py:1067\u001B[0m, in \u001B[0;36mto_datetime\u001B[0;34m(arg, errors, dayfirst, yearfirst, utc, format, exact, unit, infer_datetime_format, origin, cache)\u001B[0m\n\u001B[1;32m   1066\u001B[0m \u001B[38;5;28;01melse\u001B[39;00m:\n\u001B[0;32m-> 1067\u001B[0m     values \u001B[38;5;241m=\u001B[39m convert_listlike(arg\u001B[38;5;241m.\u001B[39m_values, \u001B[38;5;28mformat\u001B[39m)\n\u001B[1;32m   1068\u001B[0m     result \u001B[38;5;241m=\u001B[39m arg\u001B[38;5;241m.\u001B[39m_constructor(values, index\u001B[38;5;241m=\u001B[39marg\u001B[38;5;241m.\u001B[39mindex, name\u001B[38;5;241m=\u001B[39marg\u001B[38;5;241m.\u001B[39mname)\n",
      "File \u001B[0;32m/opt/homebrew/anaconda3/lib/python3.12/site-packages/pandas/core/tools/datetimes.py:433\u001B[0m, in \u001B[0;36m_convert_listlike_datetimes\u001B[0;34m(arg, format, name, utc, unit, errors, dayfirst, yearfirst, exact)\u001B[0m\n\u001B[1;32m    432\u001B[0m \u001B[38;5;28;01mif\u001B[39;00m \u001B[38;5;28mformat\u001B[39m \u001B[38;5;129;01mis\u001B[39;00m \u001B[38;5;129;01mnot\u001B[39;00m \u001B[38;5;28;01mNone\u001B[39;00m \u001B[38;5;129;01mand\u001B[39;00m \u001B[38;5;28mformat\u001B[39m \u001B[38;5;241m!=\u001B[39m \u001B[38;5;124m\"\u001B[39m\u001B[38;5;124mmixed\u001B[39m\u001B[38;5;124m\"\u001B[39m:\n\u001B[0;32m--> 433\u001B[0m     \u001B[38;5;28;01mreturn\u001B[39;00m _array_strptime_with_fallback(arg, name, utc, \u001B[38;5;28mformat\u001B[39m, exact, errors)\n\u001B[1;32m    435\u001B[0m result, tz_parsed \u001B[38;5;241m=\u001B[39m objects_to_datetime64(\n\u001B[1;32m    436\u001B[0m     arg,\n\u001B[1;32m    437\u001B[0m     dayfirst\u001B[38;5;241m=\u001B[39mdayfirst,\n\u001B[0;32m   (...)\u001B[0m\n\u001B[1;32m    441\u001B[0m     allow_object\u001B[38;5;241m=\u001B[39m\u001B[38;5;28;01mTrue\u001B[39;00m,\n\u001B[1;32m    442\u001B[0m )\n",
      "File \u001B[0;32m/opt/homebrew/anaconda3/lib/python3.12/site-packages/pandas/core/tools/datetimes.py:467\u001B[0m, in \u001B[0;36m_array_strptime_with_fallback\u001B[0;34m(arg, name, utc, fmt, exact, errors)\u001B[0m\n\u001B[1;32m    464\u001B[0m \u001B[38;5;250m\u001B[39m\u001B[38;5;124;03m\"\"\"\u001B[39;00m\n\u001B[1;32m    465\u001B[0m \u001B[38;5;124;03mCall array_strptime, with fallback behavior depending on 'errors'.\u001B[39;00m\n\u001B[1;32m    466\u001B[0m \u001B[38;5;124;03m\"\"\"\u001B[39;00m\n\u001B[0;32m--> 467\u001B[0m result, tz_out \u001B[38;5;241m=\u001B[39m array_strptime(arg, fmt, exact\u001B[38;5;241m=\u001B[39mexact, errors\u001B[38;5;241m=\u001B[39merrors, utc\u001B[38;5;241m=\u001B[39mutc)\n\u001B[1;32m    468\u001B[0m \u001B[38;5;28;01mif\u001B[39;00m tz_out \u001B[38;5;129;01mis\u001B[39;00m \u001B[38;5;129;01mnot\u001B[39;00m \u001B[38;5;28;01mNone\u001B[39;00m:\n",
      "File \u001B[0;32mstrptime.pyx:501\u001B[0m, in \u001B[0;36mpandas._libs.tslibs.strptime.array_strptime\u001B[0;34m()\u001B[0m\n",
      "File \u001B[0;32mstrptime.pyx:451\u001B[0m, in \u001B[0;36mpandas._libs.tslibs.strptime.array_strptime\u001B[0;34m()\u001B[0m\n",
      "File \u001B[0;32mstrptime.pyx:583\u001B[0m, in \u001B[0;36mpandas._libs.tslibs.strptime._parse_with_format\u001B[0;34m()\u001B[0m\n",
      "\u001B[0;31mValueError\u001B[0m: time data \"2022-01-15T23:39:52Z\" doesn't match format \"%Y-%m-%dT%H:%M:%S.%f%z\", at position 75. You might want to try:\n    - passing `format` if your strings have a consistent format;\n    - passing `format='ISO8601'` if your strings are all ISO8601 but not necessarily in exactly the same format;\n    - passing `format='mixed'`, and the format will be inferred for each element individually. You might want to use `dayfirst` alongside this.",
      "\nDuring handling of the above exception, another exception occurred:\n",
      "\u001B[0;31mValueError\u001B[0m                                Traceback (most recent call last)",
      "File \u001B[0;32mtslib.pyx:316\u001B[0m, in \u001B[0;36mpandas._libs.tslib.array_with_unit_to_datetime\u001B[0;34m()\u001B[0m\n",
      "\u001B[0;31mValueError\u001B[0m: could not convert string to float: '2022-02-04T16:49:09.15Z'",
      "\nDuring handling of the above exception, another exception occurred:\n",
      "\u001B[0;31mValueError\u001B[0m                                Traceback (most recent call last)",
      "Cell \u001B[0;32mIn[14], line 27\u001B[0m\n\u001B[1;32m     24\u001B[0m     plt\u001B[38;5;241m.\u001B[39mtight_layout()\n\u001B[1;32m     25\u001B[0m     plt\u001B[38;5;241m.\u001B[39mshow()\n\u001B[0;32m---> 27\u001B[0m plot_timestamp_distribution(df_a, df_b)\n",
      "Cell \u001B[0;32mIn[14], line 12\u001B[0m, in \u001B[0;36mplot_timestamp_distribution\u001B[0;34m(df_a, df_b)\u001B[0m\n\u001B[1;32m     10\u001B[0m     timestamps_b \u001B[38;5;241m=\u001B[39m pd\u001B[38;5;241m.\u001B[39mto_datetime(df_b[\u001B[38;5;124m'\u001B[39m\u001B[38;5;124mtimestamp\u001B[39m\u001B[38;5;124m'\u001B[39m])\n\u001B[1;32m     11\u001B[0m \u001B[38;5;28;01mexcept\u001B[39;00m:\n\u001B[0;32m---> 12\u001B[0m     timestamps_b \u001B[38;5;241m=\u001B[39m pd\u001B[38;5;241m.\u001B[39mto_datetime(df_b[\u001B[38;5;124m'\u001B[39m\u001B[38;5;124mtimestamp\u001B[39m\u001B[38;5;124m'\u001B[39m], unit\u001B[38;5;241m=\u001B[39m\u001B[38;5;124m'\u001B[39m\u001B[38;5;124ms\u001B[39m\u001B[38;5;124m'\u001B[39m)\n\u001B[1;32m     14\u001B[0m \u001B[38;5;66;03m# Create figure\u001B[39;00m\n\u001B[1;32m     15\u001B[0m fig, (ax1, ax2) \u001B[38;5;241m=\u001B[39m plt\u001B[38;5;241m.\u001B[39msubplots(\u001B[38;5;241m2\u001B[39m, \u001B[38;5;241m1\u001B[39m, figsize\u001B[38;5;241m=\u001B[39m(\u001B[38;5;241m15\u001B[39m, \u001B[38;5;241m10\u001B[39m))\n",
      "File \u001B[0;32m/opt/homebrew/anaconda3/lib/python3.12/site-packages/pandas/core/tools/datetimes.py:1067\u001B[0m, in \u001B[0;36mto_datetime\u001B[0;34m(arg, errors, dayfirst, yearfirst, utc, format, exact, unit, infer_datetime_format, origin, cache)\u001B[0m\n\u001B[1;32m   1065\u001B[0m         result \u001B[38;5;241m=\u001B[39m arg\u001B[38;5;241m.\u001B[39mmap(cache_array)\n\u001B[1;32m   1066\u001B[0m     \u001B[38;5;28;01melse\u001B[39;00m:\n\u001B[0;32m-> 1067\u001B[0m         values \u001B[38;5;241m=\u001B[39m convert_listlike(arg\u001B[38;5;241m.\u001B[39m_values, \u001B[38;5;28mformat\u001B[39m)\n\u001B[1;32m   1068\u001B[0m         result \u001B[38;5;241m=\u001B[39m arg\u001B[38;5;241m.\u001B[39m_constructor(values, index\u001B[38;5;241m=\u001B[39marg\u001B[38;5;241m.\u001B[39mindex, name\u001B[38;5;241m=\u001B[39marg\u001B[38;5;241m.\u001B[39mname)\n\u001B[1;32m   1069\u001B[0m \u001B[38;5;28;01melif\u001B[39;00m \u001B[38;5;28misinstance\u001B[39m(arg, (ABCDataFrame, abc\u001B[38;5;241m.\u001B[39mMutableMapping)):\n",
      "File \u001B[0;32m/opt/homebrew/anaconda3/lib/python3.12/site-packages/pandas/core/tools/datetimes.py:407\u001B[0m, in \u001B[0;36m_convert_listlike_datetimes\u001B[0;34m(arg, format, name, utc, unit, errors, dayfirst, yearfirst, exact)\u001B[0m\n\u001B[1;32m    405\u001B[0m     \u001B[38;5;28;01mif\u001B[39;00m \u001B[38;5;28mformat\u001B[39m \u001B[38;5;129;01mis\u001B[39;00m \u001B[38;5;129;01mnot\u001B[39;00m \u001B[38;5;28;01mNone\u001B[39;00m:\n\u001B[1;32m    406\u001B[0m         \u001B[38;5;28;01mraise\u001B[39;00m \u001B[38;5;167;01mValueError\u001B[39;00m(\u001B[38;5;124m\"\u001B[39m\u001B[38;5;124mcannot specify both format and unit\u001B[39m\u001B[38;5;124m\"\u001B[39m)\n\u001B[0;32m--> 407\u001B[0m     \u001B[38;5;28;01mreturn\u001B[39;00m _to_datetime_with_unit(arg, unit, name, utc, errors)\n\u001B[1;32m    408\u001B[0m \u001B[38;5;28;01melif\u001B[39;00m \u001B[38;5;28mgetattr\u001B[39m(arg, \u001B[38;5;124m\"\u001B[39m\u001B[38;5;124mndim\u001B[39m\u001B[38;5;124m\"\u001B[39m, \u001B[38;5;241m1\u001B[39m) \u001B[38;5;241m>\u001B[39m \u001B[38;5;241m1\u001B[39m:\n\u001B[1;32m    409\u001B[0m     \u001B[38;5;28;01mraise\u001B[39;00m \u001B[38;5;167;01mTypeError\u001B[39;00m(\n\u001B[1;32m    410\u001B[0m         \u001B[38;5;124m\"\u001B[39m\u001B[38;5;124marg must be a string, datetime, list, tuple, 1-d array, or Series\u001B[39m\u001B[38;5;124m\"\u001B[39m\n\u001B[1;32m    411\u001B[0m     )\n",
      "File \u001B[0;32m/opt/homebrew/anaconda3/lib/python3.12/site-packages/pandas/core/tools/datetimes.py:526\u001B[0m, in \u001B[0;36m_to_datetime_with_unit\u001B[0;34m(arg, unit, name, utc, errors)\u001B[0m\n\u001B[1;32m    524\u001B[0m     \u001B[38;5;28;01melse\u001B[39;00m:\n\u001B[1;32m    525\u001B[0m         arg \u001B[38;5;241m=\u001B[39m arg\u001B[38;5;241m.\u001B[39mastype(\u001B[38;5;28mobject\u001B[39m, copy\u001B[38;5;241m=\u001B[39m\u001B[38;5;28;01mFalse\u001B[39;00m)\n\u001B[0;32m--> 526\u001B[0m         arr, tz_parsed \u001B[38;5;241m=\u001B[39m tslib\u001B[38;5;241m.\u001B[39marray_with_unit_to_datetime(arg, unit, errors\u001B[38;5;241m=\u001B[39merrors)\n\u001B[1;32m    528\u001B[0m \u001B[38;5;28;01mif\u001B[39;00m errors \u001B[38;5;241m==\u001B[39m \u001B[38;5;124m\"\u001B[39m\u001B[38;5;124mignore\u001B[39m\u001B[38;5;124m\"\u001B[39m:\n\u001B[1;32m    529\u001B[0m     \u001B[38;5;66;03m# Index constructor _may_ infer to DatetimeIndex\u001B[39;00m\n\u001B[1;32m    530\u001B[0m     result \u001B[38;5;241m=\u001B[39m Index\u001B[38;5;241m.\u001B[39m_with_infer(arr, name\u001B[38;5;241m=\u001B[39mname)\n",
      "File \u001B[0;32mtslib.pyx:344\u001B[0m, in \u001B[0;36mpandas._libs.tslib.array_with_unit_to_datetime\u001B[0;34m()\u001B[0m\n",
      "File \u001B[0;32mtslib.pyx:318\u001B[0m, in \u001B[0;36mpandas._libs.tslib.array_with_unit_to_datetime\u001B[0;34m()\u001B[0m\n",
      "\u001B[0;31mValueError\u001B[0m: non convertible value 2022-02-04T16:49:09.15Z with the unit 's', at position 0"
     ]
    }
   ],
   "execution_count": 14
  },
  {
   "cell_type": "markdown",
   "metadata": {},
   "source": [
    "## 4. Check Time Intervals"
   ],
   "id": "188d564c66bdbb34"
  },
  {
   "cell_type": "code",
   "metadata": {
    "ExecuteTime": {
     "end_time": "2024-12-16T11:30:44.147174Z",
     "start_time": "2024-12-16T11:30:43.450194Z"
    }
   },
   "source": [
    "def analyze_time_intervals(df, exchange_name):\n",
    "    \"\"\"Analyze the intervals between consecutive timestamps\"\"\"\n",
    "    # Convert timestamps\n",
    "    try:\n",
    "        if exchange_name == 'Exchange A':\n",
    "            df['datetime'] = pd.to_datetime(df['timestamp'], unit='s')\n",
    "        else:\n",
    "            # Handle both formats: with and without milliseconds\n",
    "            df['datetime'] = pd.to_datetime(df['timestamp'], format='mixed')\n",
    "    except Exception as e:\n",
    "        # If it fails, let's examine the problematic timestamps\n",
    "        print(f\"Error converting timestamps for {exchange_name}: {e}\")\n",
    "        print(\"\\nSample of problematic timestamps:\")\n",
    "        print(df['timestamp'].head(10))\n",
    "        return\n",
    "\n",
    "    # Sort by timestamp\n",
    "    df = df.sort_values('datetime')\n",
    "\n",
    "    # Calculate intervals\n",
    "    intervals = df['datetime'].diff().dt.total_seconds()\n",
    "\n",
    "    print(f\"\\n{exchange_name} Time Interval Analysis:\")\n",
    "    print(f\"Mean interval: {intervals.mean():.2f} seconds\")\n",
    "    print(f\"Median interval: {intervals.median():.2f} seconds\")\n",
    "    print(f\"Min interval: {intervals.min():.2f} seconds\")\n",
    "    print(f\"Max interval: {intervals.max():.2f} seconds\")\n",
    "\n",
    "    # Plot interval distribution\n",
    "    plt.figure(figsize=(10, 5))\n",
    "    intervals.hist(bins=50)\n",
    "    plt.title(f\"{exchange_name} Time Intervals Distribution\")\n",
    "    plt.xlabel('Interval (seconds)')\n",
    "    plt.ylabel('Frequency')\n",
    "    plt.show()\n",
    "\n",
    "# Let's also add a function to examine the unique timestamp formats in the data:\n",
    "def examine_timestamp_formats(df, exchange_name):\n",
    "    \"\"\"Print unique timestamp formats and examples\"\"\"\n",
    "    print(f\"\\nExamining {exchange_name} timestamp formats:\")\n",
    "    unique_samples = df['timestamp'].drop_duplicates().head(10)\n",
    "    print(\"\\nSample timestamps:\")\n",
    "    for i, ts in enumerate(unique_samples, 1):\n",
    "        print(f\"{i}. {ts} (length: {len(str(ts))})\")\n",
    "\n",
    "analyze_time_intervals(df_a, 'Exchange A')\n",
    "analyze_time_intervals(df_b, 'Exchange B')"
   ],
   "id": "5a7d5513c7147cc5",
   "outputs": [
    {
     "name": "stdout",
     "output_type": "stream",
     "text": [
      "\n",
      "Exchange A Time Interval Analysis:\n",
      "Mean interval: 56.66 seconds\n",
      "Median interval: 60.00 seconds\n",
      "Min interval: 0.00 seconds\n",
      "Max interval: 109860.00 seconds\n"
     ]
    },
    {
     "data": {
      "text/plain": [
       "<Figure size 1000x500 with 1 Axes>"
      ],
      "image/png": "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"
     },
     "metadata": {},
     "output_type": "display_data"
    },
    {
     "name": "stdout",
     "output_type": "stream",
     "text": [
      "\n",
      "Exchange B Time Interval Analysis:\n",
      "Mean interval: 276.21 seconds\n",
      "Median interval: 84.25 seconds\n",
      "Min interval: 0.00 seconds\n",
      "Max interval: 34394.97 seconds\n"
     ]
    },
    {
     "data": {
      "text/plain": [
       "<Figure size 1000x500 with 1 Axes>"
      ],
      "image/png": "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"
     },
     "metadata": {},
     "output_type": "display_data"
    }
   ],
   "execution_count": 19
  }
 ],
 "metadata": {
  "kernelspec": {
   "display_name": "Python 3",
   "language": "python",
   "name": "python3"
  }
 }
}
